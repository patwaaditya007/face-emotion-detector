{
 "cells": [
  {
   "cell_type": "code",
   "execution_count": 1,
   "metadata": {},
   "outputs": [],
   "source": [
    "import cv2\n",
    "import numpy as np "
   ]
  },
  {
   "cell_type": "code",
   "execution_count": 2,
   "metadata": {},
   "outputs": [],
   "source": [
    "import os\n",
    "os.environ['TF_CPP_MIN_LOG_LEVEL'] = '3'"
   ]
  },
  {
   "cell_type": "code",
   "execution_count": 3,
   "metadata": {},
   "outputs": [],
   "source": [
    "import tensorflow as tf"
   ]
  },
  {
   "cell_type": "code",
   "execution_count": 4,
   "metadata": {},
   "outputs": [
    {
     "name": "stdout",
     "output_type": "stream",
     "text": [
      "True\n"
     ]
    }
   ],
   "source": [
    "#download the file and upload it to your local environment to use it\n",
    "#loading the face detector xml file\n",
    "\n",
    "face_detect = cv2.CascadeClassifier('haarcascade_frontalface_default.xml')\n",
    "test = face_detect.load('haarcascade_frontalface_default.xml')\n",
    "\n",
    "print(test)"
   ]
  },
  {
   "cell_type": "code",
   "execution_count": 5,
   "metadata": {},
   "outputs": [],
   "source": [
    "model = tf.keras.models.load_model('modelforemotions.h5')"
   ]
  },
  {
   "cell_type": "code",
   "execution_count": 6,
   "metadata": {},
   "outputs": [],
   "source": [
    "index_to_emotion = {0: 'angry',\n",
    "                    1: 'disgusted',\n",
    "                    2: 'fearful',\n",
    "                    3: 'happy',\n",
    "                    4: 'neutral',\n",
    "                    5: 'sad',\n",
    "                    6: 'surprised'}\n",
    "\n"
   ]
  },
  {
   "cell_type": "code",
   "execution_count": 7,
   "metadata": {},
   "outputs": [],
   "source": [
    "#standard method to start video input via webcam using opencv\n",
    "video= cv2.VideoCapture(0)\n",
    "while True:\n",
    "    ret,img = video.read()\n",
    "\n",
    "#using .detectMultiScale to extract the (x,y,width,height) of the rectangle\n",
    "    faces = face_detect.detectMultiScale(img, 1.3, 5)\n",
    "    gray = cv2.cvtColor(img, cv2.COLOR_BGR2GRAY)\n",
    "    \n",
    "    \n",
    "#getting the region of interest,which is the face of the person in the image\n",
    "    for (x,y,width,height) in faces:\n",
    "        img=cv2.rectangle(img,(x,y),(x+width,y+height),(0,0,255),2)\n",
    "        roi_gray = gray[y:y+ height,x:x+width]\n",
    "        roi_color = img[y:y+height, x:x+width]\n",
    "        image = np.zeros_like(roi_color)\n",
    "        image[:, :, 0] = roi_gray\n",
    "        image[:, :, 1] = roi_gray\n",
    "        image[:, :, 2] = roi_gray\n",
    "        \n",
    "        # resizing the image\n",
    "        try:\n",
    "            image1 = cv2.resize(image, (48,48), interpolation=cv2.INTER_AREA)\n",
    "        except Exception as e:\n",
    "            print(str(e))\n",
    "        img_fed = np.expand_dims(image1, axis=0)\n",
    "        scores = model.predict(img_fed)\n",
    "        index = np.argmax(scores)\n",
    "        img=cv2.putText(img, index_to_emotion[index], (x,y-15), cv2.FONT_HERSHEY_SIMPLEX, 0.9, (0,255,0), thickness=2)\n",
    "\n",
    "        \n",
    "    cv2.imshow('img',img)\n",
    "\n",
    "\n",
    "#press q key on keyboard to close the webcam videocapture\n",
    "    if cv2.waitKey(1) & 0xFF == ord('q'):\n",
    "            break\n",
    "\n",
    "video.release()\n",
    "cv2.destroyAllWindows()\n",
    "    \n",
    "\n"
   ]
  },
  {
   "cell_type": "code",
   "execution_count": null,
   "metadata": {},
   "outputs": [],
   "source": []
  },
  {
   "cell_type": "code",
   "execution_count": null,
   "metadata": {},
   "outputs": [],
   "source": []
  }
 ],
 "metadata": {
  "kernelspec": {
   "display_name": "Python 3",
   "language": "python",
   "name": "python3"
  },
  "language_info": {
   "codemirror_mode": {
    "name": "ipython",
    "version": 3
   },
   "file_extension": ".py",
   "mimetype": "text/x-python",
   "name": "python",
   "nbconvert_exporter": "python",
   "pygments_lexer": "ipython3",
   "version": "3.7.6"
  }
 },
 "nbformat": 4,
 "nbformat_minor": 4
}
